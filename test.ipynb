{
 "cells": [
  {
   "cell_type": "code",
   "execution_count": 8,
   "metadata": {},
   "outputs": [
    {
     "name": "stdout",
     "output_type": "stream",
     "text": [
      "1d5536b6f701a905544e334d954625f7782f15f0\n"
     ]
    }
   ],
   "source": [
    "from rest_framework.authtoken.models import Token\n",
    "from django.contrib.auth import authenticate\n",
    "\n",
    "user = authenticate(username='admin', password='kknd1634811KKND')\n",
    "token = Token.objects.create(user=user)\n",
    "print(token.key)"
   ]
  }
 ],
 "metadata": {
  "kernelspec": {
   "display_name": "Django Shell-Plus",
   "language": "python",
   "name": "django_extensions"
  },
  "language_info": {
   "codemirror_mode": {
    "name": "ipython",
    "version": 3
   },
   "file_extension": ".py",
   "mimetype": "text/x-python",
   "name": "python",
   "nbconvert_exporter": "python",
   "pygments_lexer": "ipython3",
   "version": "3.6.7"
  }
 },
 "nbformat": 4,
 "nbformat_minor": 2
}
